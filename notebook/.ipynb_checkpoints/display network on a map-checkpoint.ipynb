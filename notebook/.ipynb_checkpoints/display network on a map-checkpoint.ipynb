{
 "cells": [
  {
   "cell_type": "code",
   "execution_count": 1,
   "metadata": {},
   "outputs": [],
   "source": [
    "# imports\n",
    "\n",
    "import os\n",
    "import random\n",
    "\n",
    "import pandas as pd\n",
    "import networkx as nx\n",
    "import matplotlib.pyplot as plt\n",
    "\n",
    "import shapely\n",
    "import geopandas as gpd\n",
    "import mplleaflet"
   ]
  },
  {
   "cell_type": "markdown",
   "metadata": {},
   "source": [
    "## Get node data"
   ]
  },
  {
   "cell_type": "code",
   "execution_count": 2,
   "metadata": {},
   "outputs": [
    {
     "data": {
      "text/html": [
       "<div>\n",
       "<style scoped>\n",
       "    .dataframe tbody tr th:only-of-type {\n",
       "        vertical-align: middle;\n",
       "    }\n",
       "\n",
       "    .dataframe tbody tr th {\n",
       "        vertical-align: top;\n",
       "    }\n",
       "\n",
       "    .dataframe thead th {\n",
       "        text-align: right;\n",
       "    }\n",
       "</style>\n",
       "<table border=\"1\" class=\"dataframe\">\n",
       "  <thead>\n",
       "    <tr style=\"text-align: right;\">\n",
       "      <th></th>\n",
       "      <th>name</th>\n",
       "      <th>lat</th>\n",
       "      <th>lng</th>\n",
       "    </tr>\n",
       "  </thead>\n",
       "  <tbody>\n",
       "    <tr>\n",
       "      <th>0</th>\n",
       "      <td>Ann Arbor</td>\n",
       "      <td>42.293897</td>\n",
       "      <td>-83.693518</td>\n",
       "    </tr>\n",
       "    <tr>\n",
       "      <th>1</th>\n",
       "      <td>Detroit</td>\n",
       "      <td>42.332832</td>\n",
       "      <td>-83.074495</td>\n",
       "    </tr>\n",
       "    <tr>\n",
       "      <th>2</th>\n",
       "      <td>Toledo</td>\n",
       "      <td>41.684903</td>\n",
       "      <td>-83.604970</td>\n",
       "    </tr>\n",
       "    <tr>\n",
       "      <th>3</th>\n",
       "      <td>Fort Wayne</td>\n",
       "      <td>41.116929</td>\n",
       "      <td>-85.108941</td>\n",
       "    </tr>\n",
       "    <tr>\n",
       "      <th>4</th>\n",
       "      <td>Battle Creek</td>\n",
       "      <td>42.300233</td>\n",
       "      <td>-85.219148</td>\n",
       "    </tr>\n",
       "    <tr>\n",
       "      <th>5</th>\n",
       "      <td>Lansing</td>\n",
       "      <td>42.704986</td>\n",
       "      <td>-84.559382</td>\n",
       "    </tr>\n",
       "  </tbody>\n",
       "</table>\n",
       "</div>"
      ],
      "text/plain": [
       "           name        lat        lng\n",
       "0     Ann Arbor  42.293897 -83.693518\n",
       "1       Detroit  42.332832 -83.074495\n",
       "2        Toledo  41.684903 -83.604970\n",
       "3    Fort Wayne  41.116929 -85.108941\n",
       "4  Battle Creek  42.300233 -85.219148\n",
       "5       Lansing  42.704986 -84.559382"
      ]
     },
     "execution_count": 2,
     "metadata": {},
     "output_type": "execute_result"
    }
   ],
   "source": [
    "nodes = pd.DataFrame({'name' : ['Ann Arbor', 'Detroit', 'Toledo', 'Fort Wayne', 'Battle Creek', \"Lansing\"],\n",
    "                      'lat' : [42.293897, 42.332832, 41.684903, 41.116929, 42.300233, 42.704986],\n",
    "                      'lng' : [-83.693518, -83.074495,  -83.604970, -85.108941, -85.219148,  -84.559382]\n",
    "                     })\n",
    "nodes"
   ]
  },
  {
   "cell_type": "code",
   "execution_count": 3,
   "metadata": {},
   "outputs": [
    {
     "data": {
      "text/plain": [
       "NodeView((0, 1, 2, 3, 4, 5))"
      ]
     },
     "execution_count": 3,
     "metadata": {},
     "output_type": "execute_result"
    }
   ],
   "source": [
    "G = nx.Graph() # undirected\n",
    "nodes.apply(lambda x: G.add_node(x.name), axis=1)\n",
    "nx.set_node_attributes(G, 0, 'traffic')\n",
    "G.nodes()"
   ]
  },
  {
   "cell_type": "markdown",
   "metadata": {},
   "source": [
    "## Add edges"
   ]
  },
  {
   "cell_type": "code",
   "execution_count": 4,
   "metadata": {},
   "outputs": [
    {
     "data": {
      "image/png": "[encoded data removed]",
      "text/plain": [
       "<Figure size 432x288 with 1 Axes>"
      ]
     },
     "metadata": {},
     "output_type": "display_data"
    }
   ],
   "source": [
    "# Change the structure as you wish\n",
    "G.add_edge(0, 1)\n",
    "G.add_edge(1, 2)\n",
    "G.add_edge(2, 3)\n",
    "G.add_edge(3, 4)\n",
    "G.add_edge(4, 5)\n",
    "G.add_edge(5, 0)\n",
    "\n",
    "# initialize traffic \n",
    "nx.set_edge_attributes(G, 0, 'traffic')\n",
    "nx.draw(G, with_labels=True) # no geographic relevance"
   ]
  },
  {
   "cell_type": "markdown",
   "metadata": {},
   "source": [
    "## Fake OD data"
   ]
  },
  {
   "cell_type": "code",
   "execution_count": 5,
   "metadata": {},
   "outputs": [
    {
     "data": {
      "text/plain": [
       "[(1, 0, 0.21583404644127113),\n",
       " (2, 0, 4.778803077533189),\n",
       " (2, 1, 4.982767437356619),\n",
       " (3, 0, 5.707608680980545),\n",
       " (3, 1, 5.094003175381311),\n",
       " (3, 2, 4.1511612676558665),\n",
       " (4, 0, 8.429496402494983),\n",
       " (4, 1, 4.639424587165374),\n",
       " (4, 2, 9.46808456732635),\n",
       " (4, 3, 4.01127680105125),\n",
       " (5, 0, 1.8793591531193166),\n",
       " (5, 1, 6.188964921325172),\n",
       " (5, 2, 5.4131955663325035),\n",
       " (5, 3, 5.463416123099281),\n",
       " (5, 4, 3.614078845314941)]"
      ]
     },
     "execution_count": 5,
     "metadata": {},
     "output_type": "execute_result"
    }
   ],
   "source": [
    "od_data = list()\n",
    "for origin in G.nodes():\n",
    "    for destin in G.nodes():\n",
    "        if origin > destin:\n",
    "            od_data.append((origin, destin, random.uniform(0, 10)))\n",
    "od_data"
   ]
  },
  {
   "cell_type": "markdown",
   "metadata": {},
   "source": [
    "## Calculate traffic volume in each edge and node"
   ]
  },
  {
   "cell_type": "code",
   "execution_count": 6,
   "metadata": {},
   "outputs": [],
   "source": [
    "def add_flow(origin, destin, traffic, g):\n",
    "    nodes_in_path = nx.shortest_path(g, origin, destin)\n",
    "    for v in nodes_in_path:\n",
    "        G.nodes[v]['traffic'] = G.nodes[v]['traffic'] + traffic\n",
    "    for i, j in zip(nodes_in_path, nodes_in_path[1:]):\n",
    "        G.edges[i,j]['traffic'] = G.edges[i,j]['traffic'] + traffic"
   ]
  },
  {
   "cell_type": "code",
   "execution_count": 7,
   "metadata": {},
   "outputs": [],
   "source": [
    "for od in od_data:\n",
    "    add_flow(*od, G)"
   ]
  },
  {
   "cell_type": "code",
   "execution_count": 9,
   "metadata": {},
   "outputs": [
    {
     "name": "stdout",
     "output_type": "stream",
     "text": [
      "{'traffic': 25.202606958417036}\n",
      "{'traffic': 31.607405926183482}\n"
     ]
    }
   ],
   "source": [
    "# test\n",
    "print(G.edges[1,2])\n",
    "print(G.nodes[1])"
   ]
  },
  {
   "cell_type": "markdown",
   "metadata": {},
   "source": [
    "## Add traffic to dataframe"
   ]
  },
  {
   "cell_type": "code",
   "execution_count": 10,
   "metadata": {},
   "outputs": [
    {
     "data": {
      "text/html": [
       "<div>\n",
       "<style scoped>\n",
       "    .dataframe tbody tr th:only-of-type {\n",
       "        vertical-align: middle;\n",
       "    }\n",
       "\n",
       "    .dataframe tbody tr th {\n",
       "        vertical-align: top;\n",
       "    }\n",
       "\n",
       "    .dataframe thead th {\n",
       "        text-align: right;\n",
       "    }\n",
       "</style>\n",
       "<table border=\"1\" class=\"dataframe\">\n",
       "  <thead>\n",
       "    <tr style=\"text-align: right;\">\n",
       "      <th></th>\n",
       "      <th>name</th>\n",
       "      <th>lat</th>\n",
       "      <th>lng</th>\n",
       "      <th>traffic</th>\n",
       "    </tr>\n",
       "  </thead>\n",
       "  <tbody>\n",
       "    <tr>\n",
       "      <th>0</th>\n",
       "      <td>Ann Arbor</td>\n",
       "      <td>42.293897</td>\n",
       "      <td>-83.693518</td>\n",
       "      <td>27.200066</td>\n",
       "    </tr>\n",
       "    <tr>\n",
       "      <th>1</th>\n",
       "      <td>Detroit</td>\n",
       "      <td>42.332832</td>\n",
       "      <td>-83.074495</td>\n",
       "      <td>31.607406</td>\n",
       "    </tr>\n",
       "    <tr>\n",
       "      <th>2</th>\n",
       "      <td>Toledo</td>\n",
       "      <td>41.684903</td>\n",
       "      <td>-83.604970</td>\n",
       "      <td>44.235048</td>\n",
       "    </tr>\n",
       "    <tr>\n",
       "      <th>3</th>\n",
       "      <td>Fort Wayne</td>\n",
       "      <td>41.116929</td>\n",
       "      <td>-85.108941</td>\n",
       "      <td>43.948171</td>\n",
       "    </tr>\n",
       "    <tr>\n",
       "      <th>4</th>\n",
       "      <td>Battle Creek</td>\n",
       "      <td>42.300233</td>\n",
       "      <td>-85.219148</td>\n",
       "      <td>41.038973</td>\n",
       "    </tr>\n",
       "    <tr>\n",
       "      <th>5</th>\n",
       "      <td>Lansing</td>\n",
       "      <td>42.704986</td>\n",
       "      <td>-84.559382</td>\n",
       "      <td>30.988511</td>\n",
       "    </tr>\n",
       "  </tbody>\n",
       "</table>\n",
       "</div>"
      ],
      "text/plain": [
       "           name        lat        lng    traffic\n",
       "0     Ann Arbor  42.293897 -83.693518  27.200066\n",
       "1       Detroit  42.332832 -83.074495  31.607406\n",
       "2        Toledo  41.684903 -83.604970  44.235048\n",
       "3    Fort Wayne  41.116929 -85.108941  43.948171\n",
       "4  Battle Creek  42.300233 -85.219148  41.038973\n",
       "5       Lansing  42.704986 -84.559382  30.988511"
      ]
     },
     "execution_count": 10,
     "metadata": {},
     "output_type": "execute_result"
    }
   ],
   "source": [
    "# add node traffic data to nodes dataframe. we may not need this.\n",
    "nodes['traffic'] = nodes.index.map(nx.get_node_attributes(G, 'traffic'))\n",
    "nodes"
   ]
  },
  {
   "cell_type": "code",
   "execution_count": 11,
   "metadata": {},
   "outputs": [
    {
     "data": {
      "text/html": [
       "<div>\n",
       "<style scoped>\n",
       "    .dataframe tbody tr th:only-of-type {\n",
       "        vertical-align: middle;\n",
       "    }\n",
       "\n",
       "    .dataframe tbody tr th {\n",
       "        vertical-align: top;\n",
       "    }\n",
       "\n",
       "    .dataframe thead th {\n",
       "        text-align: right;\n",
       "    }\n",
       "</style>\n",
       "<table border=\"1\" class=\"dataframe\">\n",
       "  <thead>\n",
       "    <tr style=\"text-align: right;\">\n",
       "      <th></th>\n",
       "      <th>lat0</th>\n",
       "      <th>lat1</th>\n",
       "      <th>lng0</th>\n",
       "      <th>lng1</th>\n",
       "      <th>traffic</th>\n",
       "    </tr>\n",
       "  </thead>\n",
       "  <tbody>\n",
       "    <tr>\n",
       "      <th>0</th>\n",
       "      <td>42.293897</td>\n",
       "      <td>42.332832</td>\n",
       "      <td>-83.693518</td>\n",
       "      <td>-83.074495</td>\n",
       "      <td>16.891211</td>\n",
       "    </tr>\n",
       "    <tr>\n",
       "      <th>1</th>\n",
       "      <td>42.293897</td>\n",
       "      <td>42.704986</td>\n",
       "      <td>-83.693518</td>\n",
       "      <td>-84.559382</td>\n",
       "      <td>16.497820</td>\n",
       "    </tr>\n",
       "    <tr>\n",
       "      <th>2</th>\n",
       "      <td>42.332832</td>\n",
       "      <td>41.684903</td>\n",
       "      <td>-83.074495</td>\n",
       "      <td>-83.604970</td>\n",
       "      <td>25.202607</td>\n",
       "    </tr>\n",
       "    <tr>\n",
       "      <th>3</th>\n",
       "      <td>41.684903</td>\n",
       "      <td>41.116929</td>\n",
       "      <td>-83.604970</td>\n",
       "      <td>-85.108941</td>\n",
       "      <td>34.473478</td>\n",
       "    </tr>\n",
       "    <tr>\n",
       "      <th>4</th>\n",
       "      <td>41.116929</td>\n",
       "      <td>42.300233</td>\n",
       "      <td>-85.108941</td>\n",
       "      <td>-85.219148</td>\n",
       "      <td>28.995398</td>\n",
       "    </tr>\n",
       "    <tr>\n",
       "      <th>5</th>\n",
       "      <td>42.300233</td>\n",
       "      <td>42.704986</td>\n",
       "      <td>-85.219148</td>\n",
       "      <td>-84.559382</td>\n",
       "      <td>22.920187</td>\n",
       "    </tr>\n",
       "  </tbody>\n",
       "</table>\n",
       "</div>"
      ],
      "text/plain": [
       "        lat0       lat1       lng0       lng1    traffic\n",
       "0  42.293897  42.332832 -83.693518 -83.074495  16.891211\n",
       "1  42.293897  42.704986 -83.693518 -84.559382  16.497820\n",
       "2  42.332832  41.684903 -83.074495 -83.604970  25.202607\n",
       "3  41.684903  41.116929 -83.604970 -85.108941  34.473478\n",
       "4  41.116929  42.300233 -85.108941 -85.219148  28.995398\n",
       "5  42.300233  42.704986 -85.219148 -84.559382  22.920187"
      ]
     },
     "execution_count": 11,
     "metadata": {},
     "output_type": "execute_result"
    }
   ],
   "source": [
    "# create edge traffic dataframe\n",
    "edges_list = list()\n",
    "for key, item in nx.get_edge_attributes(G, 'traffic').items():\n",
    "    edge = {\n",
    "        'lat0': nodes.loc[key[0]]['lat'],\n",
    "        'lng0': nodes.loc[key[0]]['lng'],\n",
    "        'lat1': nodes.loc[key[1]]['lat'],\n",
    "        'lng1': nodes.loc[key[1]]['lng'],\n",
    "        'traffic': item\n",
    "    }\n",
    "    edges_list.append(edge)\n",
    "edges = pd.DataFrame(edges_list)\n",
    "edges"
   ]
  },
  {
   "cell_type": "markdown",
   "metadata": {},
   "source": [
    "## Convert dataframe into Geodataset"
   ]
  },
  {
   "cell_type": "code",
   "execution_count": 12,
   "metadata": {},
   "outputs": [],
   "source": [
    "# nodes to geodataframe\n",
    "nodes_gdf = gpd.GeoDataFrame(\n",
    "    nodes.drop(['lat', 'lng'], axis=1),\n",
    "    crs={'init': 'epsg:4326'},\n",
    "    geometry=nodes.apply(lambda row: shapely.geometry.Point((row.lng, row.lat)), axis=1))\n",
    "\n",
    "# edges to geodataframe\n",
    "edges_gdf = gpd.GeoDataFrame(\n",
    "    edges.drop(['lat0', 'lng0', 'lat1', 'lng1'], axis=1),\n",
    "    crs={'init': 'epsg:4326'},\n",
    "    geometry=edges.apply(lambda row: shapely.geometry.LineString([\n",
    "        (row.lng0, row.lat0),\n",
    "        (row.lng1, row.lat1)\n",
    "        ]), axis=1))"
   ]
  },
  {
   "cell_type": "code",
   "execution_count": 13,
   "metadata": {},
   "outputs": [],
   "source": [
    "# Save gdf to geojson for future use. Try deck.gl with these geojson\n",
    "node_geojson_path = \"../data/nodes.geojson\"\n",
    "if os.path.exists(node_geojson_path):\n",
    "    os.remove(node_geojson_path)\n",
    "nodes_gdf.to_file(node_geojson_path, driver=\"GeoJSON\")\n",
    "\n",
    "edge_geojson_path = \"../data/edges.geojson\"\n",
    "if os.path.exists(edge_geojson_path):\n",
    "    os.remove(edge_geojson_path)\n",
    "edges_gdf.to_file(edge_geojson_path, driver=\"GeoJSON\")"
   ]
  },
  {
   "cell_type": "markdown",
   "metadata": {},
   "source": [
    "## Visualize on the map\n",
    "basemap is displayed using\n",
    "https://github.com/jwass/mplleaflet"
   ]
  },
  {
   "cell_type": "code",
   "execution_count": 22,
   "metadata": {},
   "outputs": [
    {
     "data": {
      "text/plain": [
       "<matplotlib.axes._subplots.AxesSubplot at 0x1175ba940>"
      ]
     },
     "execution_count": 22,
     "metadata": {},
     "output_type": "execute_result"
    },
    {
     "data": {
      "image/png": "[encoded data removed]",
      "text/plain": [
       "<Figure size 432x288 with 1 Axes>"
      ]
     },
     "metadata": {},
     "output_type": "display_data"
    }
   ],
   "source": [
    "# plot edges\n",
    "ax = edges_gdf.plot(\n",
    "    column='traffic', # color by traffic volume\n",
    "    cmap='viridis', # color map https://matplotlib.org/users/colormaps.html\n",
    "    linewidth=edges_gdf['traffic'], # linewidth by traffic volume\n",
    "    capstyle='round',  # round line cap\n",
    "    zorder=1  # to display edges under nodes\n",
    ")\n",
    "\n",
    "# plot nodes\n",
    "nodes_gdf.plot(\n",
    "    color='#333333', \n",
    "    markersize=100, \n",
    "    ax=ax, \n",
    "    zorder=10\n",
    ")"
   ]
  },
  {
   "cell_type": "code",
   "execution_count": 23,
   "metadata": {},
   "outputs": [
    {
     "data": {
      "text/html": [
       "<iframe src=\"data:text/html;base64,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\" width=\"100%\" height=\"240\"></iframe>"
      ],
      "text/plain": [
       "<IPython.core.display.HTML object>"
      ]
     },
     "execution_count": 23,
     "metadata": {},
     "output_type": "execute_result"
    }
   ],
   "source": [
    "mplleaflet.display(fig=ax.figure)\n",
    "# right click the map and 'open frame in new tab' to see the map in a larger window"
   ]
  }
 ],
 "metadata": {
  "kernelspec": {
   "display_name": "Python 3",
   "language": "python",
   "name": "python3"
  },
  "language_info": {
   "codemirror_mode": {
    "name": "ipython",
    "version": 3
   },
   "file_extension": ".py",
   "mimetype": "text/x-python",
   "name": "python",
   "nbconvert_exporter": "python",
   "pygments_lexer": "ipython3",
   "version": "3.6.4"
  }
 },
 "nbformat": 4,
 "nbformat_minor": 2
}
